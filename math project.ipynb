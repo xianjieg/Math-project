{
 "cells": [
  {
   "cell_type": "code",
   "execution_count": 8,
   "metadata": {},
   "outputs": [],
   "source": [
    "import numpy as np\n",
    "import matplotlib.pyplot as plt\n",
    "import math\n",
    "import sympy as sp\n",
    "import scipy.interpolate"
   ]
  },
  {
   "cell_type": "code",
   "execution_count": 2,
   "metadata": {},
   "outputs": [
    {
     "data": {
      "text/latex": [
       "$\\displaystyle y + \\cos{\\left(3.14159265358979 t \\right)}$"
      ],
      "text/plain": [
       "y + cos(3.14159265358979*t)"
      ]
     },
     "execution_count": 2,
     "metadata": {},
     "output_type": "execute_result"
    }
   ],
   "source": [
    "t=sp.symbols('t')\n",
    "y=sp.symbols('y')\n",
    "#f_2a=sp.exp(t-y)\n",
    "f_2a=y+sp.cos(math.pi*t)\n",
    "f_2a"
   ]
  },
  {
   "cell_type": "markdown",
   "metadata": {},
   "source": [
    "We want to find h, base on N = 10, O<=t<=2"
   ]
  },
  {
   "cell_type": "code",
   "execution_count": 3,
   "metadata": {},
   "outputs": [],
   "source": [
    "N=10"
   ]
  },
  {
   "cell_type": "code",
   "execution_count": 4,
   "metadata": {},
   "outputs": [
    {
     "data": {
      "text/plain": [
       "0.2"
      ]
     },
     "execution_count": 4,
     "metadata": {},
     "output_type": "execute_result"
    }
   ],
   "source": [
    "h=(2-0)/10\n",
    "h"
   ]
  },
  {
   "cell_type": "code",
   "execution_count": 5,
   "metadata": {},
   "outputs": [
    {
     "data": {
      "text/plain": [
       "array([0. , 0.2, 0.4, 0.6, 0.8, 1. , 1.2, 1.4, 1.6, 1.8, 2. ])"
      ]
     },
     "execution_count": 5,
     "metadata": {},
     "output_type": "execute_result"
    }
   ],
   "source": [
    "t=np.linspace(0,2,int(N)+1)\n",
    "t"
   ]
  },
  {
   "cell_type": "markdown",
   "metadata": {},
   "source": [
    "# Euler method"
   ]
  },
  {
   "cell_type": "code",
   "execution_count": 6,
   "metadata": {},
   "outputs": [],
   "source": [
    "def f_2a(t,y):\n",
    "    f=y+sp.cos(math.pi*t)\n",
    "    return f"
   ]
  },
  {
   "cell_type": "code",
   "execution_count": 7,
   "metadata": {
    "scrolled": true
   },
   "outputs": [
    {
     "data": {
      "text/plain": [
       "array([2.        , 2.2       , 2.4018034 , 2.54252816, 2.63588636,\n",
       "       2.71307623, 2.78897332, 2.87133851, 2.9674552 , 3.08849965,\n",
       "       3.25618004])"
      ]
     },
     "execution_count": 7,
     "metadata": {},
     "output_type": "execute_result"
    }
   ],
   "source": [
    "W = np.zeros(len(t))\n",
    "W[0] = 2\n",
    "for n in range(0,len(t)-1 ):\n",
    "         W[n+1] = W[n] + f_2a(W[n],t[n])*(t[n+1] - t[n])\n",
    "W"
   ]
  },
  {
   "cell_type": "code",
   "execution_count": 8,
   "metadata": {},
   "outputs": [
    {
     "data": {
      "text/plain": [
       "array([0. , 0.2, 0.4, 0.6, 0.8, 1. , 1.2, 1.4, 1.6, 1.8, 2. ])"
      ]
     },
     "execution_count": 8,
     "metadata": {},
     "output_type": "execute_result"
    }
   ],
   "source": [
    "t"
   ]
  },
  {
   "cell_type": "code",
   "execution_count": 9,
   "metadata": {},
   "outputs": [
    {
     "data": {
      "text/plain": [
       "array([ 2.        ,  2.65062979,  3.36734688,  4.11518096,  4.9001451 ,\n",
       "        5.77864435,  6.85022788,  8.23702688, 10.05843316, 12.41154628,\n",
       "       15.36590324])"
      ]
     },
     "execution_count": 9,
     "metadata": {},
     "output_type": "execute_result"
    }
   ],
   "source": [
    "y_exact=((2*math.pi**2+3)*np.exp(t)+math.pi*np.sin(math.pi*t)-np.cos(math.pi*t))/(math.pi**2+1)\n",
    "y_exact"
   ]
  },
  {
   "cell_type": "markdown",
   "metadata": {},
   "source": [
    "the error compare between Euler method and exact solution"
   ]
  },
  {
   "cell_type": "code",
   "execution_count": 10,
   "metadata": {},
   "outputs": [
    {
     "data": {
      "text/plain": [
       "[0.0,\n",
       " 0.4506297858079473,\n",
       " 0.9655434810731283,\n",
       " 1.5726527943619986,\n",
       " 2.264258738666989,\n",
       " 3.0655681207647216,\n",
       " 4.061254565342606,\n",
       " 5.365688367289149,\n",
       " 7.09097795595891,\n",
       " 9.32304663166306,\n",
       " 12.109723201254821]"
      ]
     },
     "execution_count": 10,
     "metadata": {},
     "output_type": "execute_result"
    }
   ],
   "source": [
    "[abs(W[i]-y_exact[i]) for i in np.arange(N+1)]"
   ]
  },
  {
   "cell_type": "markdown",
   "metadata": {},
   "source": [
    "# Modified Euler method"
   ]
  },
  {
   "cell_type": "code",
   "execution_count": 11,
   "metadata": {},
   "outputs": [
    {
     "data": {
      "text/plain": [
       "array([ 2.        ,  2.6409017 ,  3.34988381,  4.09303859,  4.87552334,\n",
       "        5.75105644,  6.81538715,  8.18678859,  9.98170174, 12.29565986,\n",
       "       15.19778707])"
      ]
     },
     "execution_count": 11,
     "metadata": {},
     "output_type": "execute_result"
    }
   ],
   "source": [
    "h=0.2\n",
    "N=10\n",
    "W=np.zeros(N+1)\n",
    "W[0]=2\n",
    "t=np.linspace(0,2,int(N)+1)\n",
    "for i in np.arange(1,int(N)+1):\n",
    "    W[i]=W[i-1]+(h/2)*( f_2a(t[i-1],W[i-1]) + f_2a(t[i],W[i-1] +h*f_2a(t[i-1],W[i-1]) ) )\n",
    "W"
   ]
  },
  {
   "cell_type": "code",
   "execution_count": 12,
   "metadata": {},
   "outputs": [
    {
     "data": {
      "text/plain": [
       "array([0. , 0.2, 0.4, 0.6, 0.8, 1. , 1.2, 1.4, 1.6, 1.8, 2. ])"
      ]
     },
     "execution_count": 12,
     "metadata": {},
     "output_type": "execute_result"
    }
   ],
   "source": [
    "t"
   ]
  },
  {
   "cell_type": "code",
   "execution_count": 13,
   "metadata": {
    "scrolled": false
   },
   "outputs": [
    {
     "data": {
      "text/plain": [
       "array([ 2.        ,  2.65062979,  3.36734688,  4.11518096,  4.9001451 ,\n",
       "        5.77864435,  6.85022788,  8.23702688, 10.05843316, 12.41154628,\n",
       "       15.36590324])"
      ]
     },
     "execution_count": 13,
     "metadata": {},
     "output_type": "execute_result"
    }
   ],
   "source": [
    "y_exact=((2*math.pi**2+3)*np.exp(t)+math.pi*np.sin(math.pi*t)-np.cos(math.pi*t))/(math.pi**2+1)\n",
    "y_exact"
   ]
  },
  {
   "cell_type": "markdown",
   "metadata": {},
   "source": [
    "the error compare between Modified Euler method and exact solution\n"
   ]
  },
  {
   "cell_type": "code",
   "execution_count": 14,
   "metadata": {},
   "outputs": [
    {
     "data": {
      "text/plain": [
       "[0.0,\n",
       " 0.009728086370452527,\n",
       " 0.017463067871885674,\n",
       " 0.022142364731358555,\n",
       " 0.02462175367116881,\n",
       " 0.027587914305224004,\n",
       " 0.03484072592170584,\n",
       " 0.050238288744481,\n",
       " 0.07673142032391667,\n",
       " 0.11588641695556667,\n",
       " 0.1681161701999052]"
      ]
     },
     "execution_count": 14,
     "metadata": {},
     "output_type": "execute_result"
    }
   ],
   "source": [
    "[abs(W[i]-y_exact[i]) for i in np.arange(N+1)]"
   ]
  },
  {
   "cell_type": "markdown",
   "metadata": {},
   "source": [
    "# Midpoint method"
   ]
  },
  {
   "cell_type": "code",
   "execution_count": 15,
   "metadata": {},
   "outputs": [
    {
     "data": {
      "text/plain": [
       "array([ 2.        ,  2.6502113 ,  3.36699518,  4.11391446,  4.89523825,\n",
       "        5.76579902,  6.8240635 ,  8.19162009,  9.98759616, 12.30860471,\n",
       "       15.22288939])"
      ]
     },
     "execution_count": 15,
     "metadata": {},
     "output_type": "execute_result"
    }
   ],
   "source": [
    "h=0.2\n",
    "N=10\n",
    "W=np.zeros(N+1)\n",
    "W[0]=2\n",
    "t=np.linspace(0,2,int(N)+1)\n",
    "for i in np.arange(1,int(N)+1):\n",
    "    W[i]=W[i-1]+h*f_2a( t[i-1] + h/2, W[i-1] + (h/2)*f_2a( t[i-1],W[i-1] ) )\n",
    "W"
   ]
  },
  {
   "cell_type": "code",
   "execution_count": 16,
   "metadata": {},
   "outputs": [
    {
     "data": {
      "text/plain": [
       "array([ 2.        ,  2.65062979,  3.36734688,  4.11518096,  4.9001451 ,\n",
       "        5.77864435,  6.85022788,  8.23702688, 10.05843316, 12.41154628,\n",
       "       15.36590324])"
      ]
     },
     "execution_count": 16,
     "metadata": {},
     "output_type": "execute_result"
    }
   ],
   "source": [
    "y_exact=((2*math.pi**2+3)*np.exp(t)+math.pi*np.sin(math.pi*t)-np.cos(math.pi*t))/(math.pi**2+1)\n",
    "y_exact"
   ]
  },
  {
   "cell_type": "markdown",
   "metadata": {},
   "source": [
    "the error compare between Midpoint method and exact solution"
   ]
  },
  {
   "cell_type": "code",
   "execution_count": 17,
   "metadata": {},
   "outputs": [
    {
     "data": {
      "text/plain": [
       "[0.0,\n",
       " 0.00041848254891663217,\n",
       " 0.0003516996261065941,\n",
       " 0.0012664954715075893,\n",
       " 0.004906844757655904,\n",
       " 0.012845329252274773,\n",
       " 0.026164375978643406,\n",
       " 0.04540679339744891,\n",
       " 0.07083699600053706,\n",
       " 0.10294156769753826,\n",
       " 0.14301385028357494]"
      ]
     },
     "execution_count": 17,
     "metadata": {},
     "output_type": "execute_result"
    }
   ],
   "source": [
    "[abs(W[i]-y_exact[i]) for i in np.arange(N+1)]"
   ]
  },
  {
   "cell_type": "markdown",
   "metadata": {},
   "source": [
    "# Runge-Kutta method"
   ]
  },
  {
   "cell_type": "code",
   "execution_count": 18,
   "metadata": {},
   "outputs": [
    {
     "data": {
      "text/plain": [
       "array([ 2.        ,  2.65062289,  3.36732569,  4.11513832,  4.90007506,\n",
       "        5.77854206,  6.85008838,  8.23684306, 10.05819338, 12.41123229,\n",
       "       15.36548873])"
      ]
     },
     "execution_count": 18,
     "metadata": {},
     "output_type": "execute_result"
    }
   ],
   "source": [
    "h=0.2\n",
    "N=10\n",
    "W=np.zeros(N+1)\n",
    "W[0]=2\n",
    "t=np.linspace(0,2,int(N)+1)\n",
    "for i in np.arange(1,int(N)+1):\n",
    "    k1=h*f_2a( t[i-1],W[i-1] )\n",
    "    k2=h*f_2a( t[i-1]+h/2,W[i-1]+(1/2)*k1 )\n",
    "    k3=h*f_2a( t[i-1]+h/2,W[i-1]+(1/2)*k2 )\n",
    "    k4=h*f_2a( t[i],W[i-1]+k3)\n",
    "    W[i]=W[i-1] +  (1/6)*( k1+2*k2+2*k3+k4 )\n",
    "W"
   ]
  },
  {
   "cell_type": "code",
   "execution_count": 19,
   "metadata": {},
   "outputs": [
    {
     "data": {
      "text/plain": [
       "array([ 2.        ,  2.65062979,  3.36734688,  4.11518096,  4.9001451 ,\n",
       "        5.77864435,  6.85022788,  8.23702688, 10.05843316, 12.41154628,\n",
       "       15.36590324])"
      ]
     },
     "execution_count": 19,
     "metadata": {},
     "output_type": "execute_result"
    }
   ],
   "source": [
    "y_exact=((2*math.pi**2+3)*np.exp(t)+math.pi*np.sin(math.pi*t)-np.cos(math.pi*t))/(math.pi**2+1)\n",
    "y_exact"
   ]
  },
  {
   "cell_type": "markdown",
   "metadata": {},
   "source": [
    "the error compare Runge-Kutta method and exact solution"
   ]
  },
  {
   "cell_type": "code",
   "execution_count": 20,
   "metadata": {},
   "outputs": [
    {
     "data": {
      "text/plain": [
       "[0.0,\n",
       " 6.892594629714921e-06,\n",
       " 2.119228957608854e-05,\n",
       " 4.263468734233555e-05,\n",
       " 7.003649384529353e-05,\n",
       " 0.00010229391302729596,\n",
       " 0.000139503937769625,\n",
       " 0.00018382132229000092,\n",
       " 0.00023977565968813508,\n",
       " 0.0003139926019315453,\n",
       " 0.0004145076421746552]"
      ]
     },
     "execution_count": 20,
     "metadata": {},
     "output_type": "execute_result"
    }
   ],
   "source": [
    "[abs(W[i]-y_exact[i]) for i in np.arange(N+1)]"
   ]
  },
  {
   "cell_type": "markdown",
   "metadata": {},
   "source": [
    "# Extrapolation Algorithm"
   ]
  },
  {
   "cell_type": "markdown",
   "metadata": {},
   "source": [
    "Extrapolation method is one of technique for approximation of definite intergral. This technique invole midpoint method and euler's method. we apply euler's method to find w1, then we can determined w2 by midpoint with w0 and w1. And we reply the similar step to approximation the ending at value t. Extrapolation method is used for accelerating scalar or vector squences."
   ]
  },
  {
   "cell_type": "code",
   "execution_count": 9,
   "metadata": {},
   "outputs": [],
   "source": [
    "def extrapolate(f,a,b,y0,TOL,hmax,hmin):\n",
    "    NK=[2,4,6,8,12,16,24,32]\n",
    "    N=len(NK)\n",
    "    Y=np.zeros(N)\n",
    "    Q=np.zeros((N,N))\n",
    "    TO=a\n",
    "    WO=y0\n",
    "    h=hmax\n",
    "    FLAG=1\n",
    "    for i in np.arange(N-1):\n",
    "        for j in np.arange(i):\n",
    "            Q[i,j]=( NK[i+1]/NK[j] )**2\n",
    "    while FLAG==1:\n",
    "        k=0\n",
    "        NFLAG=0\n",
    "        while (k<=N-1) and (NFLAG==0):\n",
    "            HK=h/NK[k]\n",
    "            T=TO\n",
    "            W2=WO\n",
    "            W3=W2+HK*f(T,W2)\n",
    "            T=TO+HK\n",
    "            for j in np.arange( NK[k]-1 ):\n",
    "                W1=W2\n",
    "                W2=W3\n",
    "                W3=W1+2*HK*f(T,W2)\n",
    "                T=TO+(j+1)*HK\n",
    "            Y[k]=(W3+W2+HK*f(T,W3))/2\n",
    "            \n",
    "            if k>=1:\n",
    "                j=k\n",
    "                v=Y[0]\n",
    "            \n",
    "                while j>=1:\n",
    "                    Y[j-1]=Y[j]+( Y[j]-Y[j-1] )/( Q[k-1,j-1]-1 )\n",
    "                    j=j-1\n",
    "                \n",
    "                if abs(Y[0]-v)<=TOL:\n",
    "                    NFLAG=1\n",
    "            k=k+1\n",
    "        k=k-1\n",
    "        if NFLAG==0:\n",
    "            h=h/2\n",
    "            if h<hmin:\n",
    "                print('min exceeded')\n",
    "                FLAG=0\n",
    "        else:\n",
    "            WO=Y[0]\n",
    "            TO=TO+h\n",
    "            print(TO,WO,h)\n",
    "            if TO>=b:\n",
    "                FLAG=0\n",
    "            elif TO+h>b:\n",
    "                h=b-TO\n",
    "            elif (k<=2) and (h<0.5*hmax):\n",
    "                h=2*h      "
   ]
  },
  {
   "cell_type": "code",
   "execution_count": 12,
   "metadata": {},
   "outputs": [],
   "source": [
    "def f_6(t,v):\n",
    "    m=10\n",
    "    g=9.8\n",
    "    k=0.5\n",
    "    y=0\n",
    "    f=-g-k/m*np.sqrt(abs(v))\n",
    "    return f"
   ]
  },
  {
   "cell_type": "code",
   "execution_count": 13,
   "metadata": {
    "scrolled": true
   },
   "outputs": [
    {
     "name": "stdout",
     "output_type": "stream",
     "text": [
      "0.25 -2.4618226723196095 0.25\n",
      "0.5 -4.9356852417663735 0.25\n",
      "0.75 -7.416668826704473 0.25\n",
      "1.0 -9.903404643569619 0.25\n",
      "1.25 -12.395108977711857 0.25\n",
      "1.5 -14.89125471824358 0.25\n",
      "1.75 -17.391455480834235 0.25\n",
      "2.0 -19.895412144215662 0.25\n",
      "2.25 -22.402884178878708 0.25\n",
      "2.5 -24.91367267160583 0.25\n",
      "2.75 -27.427609537068406 0.25\n",
      "3.0 -29.94455028482495 0.25\n",
      "3.25 -32.46436896233801 0.25\n",
      "3.5 -34.98695449773224 0.25\n",
      "3.75 -37.51220798004591 0.25\n",
      "4.0 -40.040040588748454 0.25\n",
      "4.25 -42.5703719857798 0.25\n",
      "4.5 -45.10312904512663 0.25\n",
      "4.75 -47.638244833922855 0.25\n",
      "5.0 -50.175657784433064 0.25\n"
     ]
    }
   ],
   "source": [
    "a=0\n",
    "b=5\n",
    "y0=0\n",
    "TOL=1e-4\n",
    "hmin=0.05\n",
    "hmax=0.25\n",
    "extrapolate(f_6,a,b,y0,TOL,hmax,hmin)"
   ]
  },
  {
   "cell_type": "markdown",
   "metadata": {},
   "source": [
    "the first numbers of row are time, and they are 0.25,0.5,0.75.....to 5.0, and the second number of row are estimate solution realte with the times."
   ]
  },
  {
   "cell_type": "code",
   "execution_count": null,
   "metadata": {},
   "outputs": [],
   "source": []
  }
 ],
 "metadata": {
  "kernelspec": {
   "display_name": "Python 3",
   "language": "python",
   "name": "python3"
  },
  "language_info": {
   "codemirror_mode": {
    "name": "ipython",
    "version": 3
   },
   "file_extension": ".py",
   "mimetype": "text/x-python",
   "name": "python",
   "nbconvert_exporter": "python",
   "pygments_lexer": "ipython3",
   "version": "3.8.3"
  }
 },
 "nbformat": 4,
 "nbformat_minor": 4
}
